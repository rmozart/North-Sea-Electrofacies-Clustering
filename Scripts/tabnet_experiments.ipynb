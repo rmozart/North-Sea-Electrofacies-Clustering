{
 "metadata": {
  "language_info": {
   "codemirror_mode": {
    "name": "ipython",
    "version": 3
   },
   "file_extension": ".py",
   "mimetype": "text/x-python",
   "name": "python",
   "nbconvert_exporter": "python",
   "pygments_lexer": "ipython3",
   "version": "3.7.6-final"
  },
  "orig_nbformat": 2,
  "kernelspec": {
   "name": "python37664bit42bf01c25ac14defb7b59bc3ba727332",
   "display_name": "Python 3.7.6 64-bit"
  }
 },
 "nbformat": 4,
 "nbformat_minor": 2,
 "cells": [
  {
   "source": [
    "# Importing Libraryies"
   ],
   "cell_type": "markdown",
   "metadata": {}
  },
  {
   "source": [
    "* System Append to set proper path"
   ],
   "cell_type": "markdown",
   "metadata": {}
  },
  {
   "cell_type": "code",
   "execution_count": 1,
   "metadata": {},
   "outputs": [],
   "source": [
    "sys.path.append('../')"
   ]
  },
  {
   "source": [
    "* Default"
   ],
   "cell_type": "markdown",
   "metadata": {}
  },
  {
   "cell_type": "code",
   "execution_count": 2,
   "metadata": {},
   "outputs": [],
   "source": [
    "import lasio\n",
    "import pandas as pd\n",
    "import numpy as np\n",
    "from collections import Counter\n",
    "import matplotlib.pyplot as plt\n",
    "import seaborn as sns\n",
    "from scipy import stats\n",
    "from collections import Counter"
   ]
  },
  {
   "source": [
    "* Pandas Option"
   ],
   "cell_type": "markdown",
   "metadata": {}
  },
  {
   "cell_type": "code",
   "execution_count": 3,
   "metadata": {},
   "outputs": [],
   "source": [
    "pd.set_option('max_columns', None)"
   ]
  },
  {
   "source": [
    "* Tqdm Progress Bar"
   ],
   "cell_type": "markdown",
   "metadata": {}
  },
  {
   "cell_type": "code",
   "execution_count": 4,
   "metadata": {},
   "outputs": [],
   "source": [
    "%%capture\n",
    "from tqdm import tqdm_notebook"
   ]
  },
  {
   "source": [
    "# Checkpoint Import"
   ],
   "cell_type": "markdown",
   "metadata": {}
  },
  {
   "cell_type": "code",
   "execution_count": 5,
   "metadata": {},
   "outputs": [],
   "source": [
    "df = pd.read_csv('../checkpoints/total_df.csv.gz', compression='gzip')"
   ]
  },
  {
   "cell_type": "code",
   "execution_count": 6,
   "metadata": {},
   "outputs": [
    {
     "output_type": "execute_result",
     "data": {
      "text/plain": [
       "        CALI      NPHI   RHOB         GR         DTC      RDEP  \\\n",
       "0  19.406000  0.475704  1.789  64.497482  167.582153  1.574993   \n",
       "1  19.406000  0.479429  1.754  62.406261  167.425064  1.569011   \n",
       "2  19.406000  0.474963  1.778  62.629055  167.808395  1.578010   \n",
       "3  19.452999  0.504394  1.642  65.998596  169.244873  1.586024   \n",
       "4  19.452999  0.480163  1.563  64.997223  170.635086  1.603011   \n",
       "\n",
       "   LITHOLOGY_GEOLINK       DEPTH WELL_NAME  \n",
       "0                NaN  493.493134   15_9-12  \n",
       "1                NaN  493.645538   15_9-12  \n",
       "2                NaN  493.797943   15_9-12  \n",
       "3                NaN  493.950348   15_9-12  \n",
       "4                NaN  494.102722   15_9-12  "
      ],
      "text/html": "<div>\n<style scoped>\n    .dataframe tbody tr th:only-of-type {\n        vertical-align: middle;\n    }\n\n    .dataframe tbody tr th {\n        vertical-align: top;\n    }\n\n    .dataframe thead th {\n        text-align: right;\n    }\n</style>\n<table border=\"1\" class=\"dataframe\">\n  <thead>\n    <tr style=\"text-align: right;\">\n      <th></th>\n      <th>CALI</th>\n      <th>NPHI</th>\n      <th>RHOB</th>\n      <th>GR</th>\n      <th>DTC</th>\n      <th>RDEP</th>\n      <th>LITHOLOGY_GEOLINK</th>\n      <th>DEPTH</th>\n      <th>WELL_NAME</th>\n    </tr>\n  </thead>\n  <tbody>\n    <tr>\n      <th>0</th>\n      <td>19.406000</td>\n      <td>0.475704</td>\n      <td>1.789</td>\n      <td>64.497482</td>\n      <td>167.582153</td>\n      <td>1.574993</td>\n      <td>NaN</td>\n      <td>493.493134</td>\n      <td>15_9-12</td>\n    </tr>\n    <tr>\n      <th>1</th>\n      <td>19.406000</td>\n      <td>0.479429</td>\n      <td>1.754</td>\n      <td>62.406261</td>\n      <td>167.425064</td>\n      <td>1.569011</td>\n      <td>NaN</td>\n      <td>493.645538</td>\n      <td>15_9-12</td>\n    </tr>\n    <tr>\n      <th>2</th>\n      <td>19.406000</td>\n      <td>0.474963</td>\n      <td>1.778</td>\n      <td>62.629055</td>\n      <td>167.808395</td>\n      <td>1.578010</td>\n      <td>NaN</td>\n      <td>493.797943</td>\n      <td>15_9-12</td>\n    </tr>\n    <tr>\n      <th>3</th>\n      <td>19.452999</td>\n      <td>0.504394</td>\n      <td>1.642</td>\n      <td>65.998596</td>\n      <td>169.244873</td>\n      <td>1.586024</td>\n      <td>NaN</td>\n      <td>493.950348</td>\n      <td>15_9-12</td>\n    </tr>\n    <tr>\n      <th>4</th>\n      <td>19.452999</td>\n      <td>0.480163</td>\n      <td>1.563</td>\n      <td>64.997223</td>\n      <td>170.635086</td>\n      <td>1.603011</td>\n      <td>NaN</td>\n      <td>494.102722</td>\n      <td>15_9-12</td>\n    </tr>\n  </tbody>\n</table>\n</div>"
     },
     "metadata": {},
     "execution_count": 6
    }
   ],
   "source": [
    "df.head()"
   ]
  },
  {
   "source": [
    "# Lithology Code Prediction"
   ],
   "cell_type": "markdown",
   "metadata": {}
  },
  {
   "cell_type": "code",
   "execution_count": 7,
   "metadata": {},
   "outputs": [],
   "source": [
    "litho_data = df[pd.notnull(df['LITHOLOGY_GEOLINK'])].drop(columns=['WELL_NAME']) # not null dataframe (model training)"
   ]
  },
  {
   "cell_type": "code",
   "execution_count": 8,
   "metadata": {},
   "outputs": [
    {
     "output_type": "execute_result",
     "data": {
      "text/plain": [
       "1294715"
      ]
     },
     "metadata": {},
     "execution_count": 8
    }
   ],
   "source": [
    "len(litho_data)"
   ]
  },
  {
   "source": [
    "    * Converting Lithology Data to Integer"
   ],
   "cell_type": "markdown",
   "metadata": {}
  },
  {
   "cell_type": "code",
   "execution_count": 9,
   "metadata": {},
   "outputs": [],
   "source": [
    "litho_data['LITHOLOGY_GEOLINK'] = litho_data['LITHOLOGY_GEOLINK'].astype(int)"
   ]
  },
  {
   "source": [
    "    * Reducing Dataset Size"
   ],
   "cell_type": "markdown",
   "metadata": {}
  },
  {
   "cell_type": "code",
   "execution_count": 10,
   "metadata": {},
   "outputs": [],
   "source": [
    "litho_data[\"Set\"] = np.random.choice([\"train_red\", \"rest\"], p =[.6, .4], size=(litho_data.shape[0],))\n",
    "\n",
    "train = litho_data[litho_data.Set == 'train_red']"
   ]
  },
  {
   "cell_type": "code",
   "execution_count": 11,
   "metadata": {},
   "outputs": [
    {
     "output_type": "stream",
     "name": "stdout",
     "text": [
      "(777173, 9) (1294715, 9)\n"
     ]
    }
   ],
   "source": [
    "print(train.shape, litho_data.shape)"
   ]
  },
  {
   "source": [
    "    * Dataset Split"
   ],
   "cell_type": "markdown",
   "metadata": {}
  },
  {
   "cell_type": "code",
   "execution_count": 12,
   "metadata": {},
   "outputs": [],
   "source": [
    "from sklearn.model_selection import train_test_split\n",
    "\n",
    "X = train.drop(columns=['LITHOLOGY_GEOLINK', 'Set'])\n",
    "\n",
    "Y = train['LITHOLOGY_GEOLINK']\n",
    "\n",
    "x_train, x_test, y_train, y_test = train_test_split(X, Y, test_size = 0.2, random_state=42)\n",
    "\n",
    "x_train, x_val, y_train, y_val = train_test_split(x_train, y_train, test_size = 0.2, random_state=42)"
   ]
  },
  {
   "cell_type": "code",
   "execution_count": 13,
   "metadata": {},
   "outputs": [
    {
     "output_type": "stream",
     "name": "stdout",
     "text": [
      "### Training Dataset: ###  (497390, 7) (497390,)\n### Validation Dataset: ###  (124348, 7) (124348,)\n### Test Dataset: ###  (155435, 7) (155435,)\n"
     ]
    }
   ],
   "source": [
    "print('### Training Dataset: ### ', x_train.shape, y_train.shape)\n",
    "print('### Validation Dataset: ### ', x_val.shape, y_val.shape)\n",
    "print('### Test Dataset: ### ', x_test.shape, y_test.shape)"
   ]
  },
  {
   "cell_type": "code",
   "execution_count": 14,
   "metadata": {},
   "outputs": [],
   "source": [
    "from sklearn.preprocessing import StandardScaler\n",
    "\n",
    "std_scaler = StandardScaler()\n",
    "\n",
    "x_train = std_scaler.fit_transform(x_train)\n",
    "x_val = std_scaler.fit_transform(x_val)\n",
    "x_test = std_scaler.fit_transform(x_test)"
   ]
  },
  {
   "source": [
    "    * Hyper-Parameter Tunning --> Random Search"
   ],
   "cell_type": "markdown",
   "metadata": {}
  },
  {
   "source": [
    "        * Parameter Grid Definition"
   ],
   "cell_type": "markdown",
   "metadata": {}
  },
  {
   "source": [
    "grid = {\n",
    "    #\"n_a\": [4, 16, 32, 64],\n",
    "    #\"n_d\": [4, 16, 32, 64],\n",
    "    \"gamma\": [1, 1.2, 1.5, 2],\n",
    "    #\"n_steps\": [3, 5, 7]}\n",
    "     \"momentum\": [0.6, 0.9, 0.98],\n",
    "     \"lambda_sparse\": [0, 1e-6, 1e-2, 0.1]\n",
    "}"
   ],
   "cell_type": "code",
   "metadata": {},
   "execution_count": 16,
   "outputs": []
  },
  {
   "source": [
    "        * TabNet Call"
   ],
   "cell_type": "markdown",
   "metadata": {}
  },
  {
   "cell_type": "code",
   "execution_count": 17,
   "metadata": {},
   "outputs": [],
   "source": [
    "import torch\n",
    "from pytorch_tabnet.tab_model import TabNetClassifier"
   ]
  },
  {
   "source": [
    "        * Grid Search (n_experiment)"
   ],
   "cell_type": "markdown",
   "metadata": {}
  },
  {
   "cell_type": "code",
   "execution_count": 18,
   "metadata": {},
   "outputs": [
    {
     "output_type": "display_data",
     "data": {
      "text/plain": "HBox(children=(FloatProgress(value=0.0, description='Parameter Grid Search:', max=48.0, style=ProgressStyle(de…",
      "application/vnd.jupyter.widget-view+json": {
       "version_major": 2,
       "version_minor": 0,
       "model_id": "3235d6530f204a4b86e3c0fdf082f989"
      }
     },
     "metadata": {}
    },
    {
     "output_type": "stream",
     "name": "stdout",
     "text": [
      "{'gamma': 1, 'lambda_sparse': 0, 'momentum': 0.6}\n",
      "Device used : cuda\n",
      "Stop training because you reached max_epochs = 20 with best_epoch = 18 and best_valid_balanced_accuracy = 0.27634\n",
      "Best weights from best epoch are automatically used!\n",
      "{'gamma': 1, 'lambda_sparse': 0, 'momentum': 0.9}\n",
      "Device used : cuda\n",
      "Stop training because you reached max_epochs = 20 with best_epoch = 18 and best_valid_balanced_accuracy = 0.27606\n",
      "Best weights from best epoch are automatically used!\n",
      "{'gamma': 1, 'lambda_sparse': 0, 'momentum': 0.98}\n",
      "Device used : cuda\n",
      "Stop training because you reached max_epochs = 20 with best_epoch = 18 and best_valid_balanced_accuracy = 0.27607\n",
      "Best weights from best epoch are automatically used!\n",
      "{'gamma': 1, 'lambda_sparse': 1e-06, 'momentum': 0.6}\n",
      "Device used : cuda\n",
      "Stop training because you reached max_epochs = 20 with best_epoch = 19 and best_valid_balanced_accuracy = 0.30234\n",
      "Best weights from best epoch are automatically used!\n",
      "{'gamma': 1, 'lambda_sparse': 1e-06, 'momentum': 0.9}\n",
      "Device used : cuda\n",
      "Stop training because you reached max_epochs = 20 with best_epoch = 19 and best_valid_balanced_accuracy = 0.30438\n",
      "Best weights from best epoch are automatically used!\n",
      "{'gamma': 1, 'lambda_sparse': 1e-06, 'momentum': 0.98}\n",
      "Device used : cuda\n",
      "Stop training because you reached max_epochs = 20 with best_epoch = 19 and best_valid_balanced_accuracy = 0.30385\n",
      "Best weights from best epoch are automatically used!\n",
      "{'gamma': 1, 'lambda_sparse': 0.01, 'momentum': 0.6}\n",
      "Device used : cuda\n",
      "Stop training because you reached max_epochs = 20 with best_epoch = 18 and best_valid_balanced_accuracy = 0.28039\n",
      "Best weights from best epoch are automatically used!\n",
      "{'gamma': 1, 'lambda_sparse': 0.01, 'momentum': 0.9}\n",
      "Device used : cuda\n",
      "Stop training because you reached max_epochs = 20 with best_epoch = 18 and best_valid_balanced_accuracy = 0.28052\n",
      "Best weights from best epoch are automatically used!\n",
      "{'gamma': 1, 'lambda_sparse': 0.01, 'momentum': 0.98}\n",
      "Device used : cuda\n",
      "Stop training because you reached max_epochs = 20 with best_epoch = 18 and best_valid_balanced_accuracy = 0.28048\n",
      "Best weights from best epoch are automatically used!\n",
      "{'gamma': 1, 'lambda_sparse': 0.1, 'momentum': 0.6}\n",
      "Device used : cuda\n",
      "Stop training because you reached max_epochs = 20 with best_epoch = 18 and best_valid_balanced_accuracy = 0.28772\n",
      "Best weights from best epoch are automatically used!\n",
      "{'gamma': 1, 'lambda_sparse': 0.1, 'momentum': 0.9}\n",
      "Device used : cuda\n",
      "Stop training because you reached max_epochs = 20 with best_epoch = 18 and best_valid_balanced_accuracy = 0.28799\n",
      "Best weights from best epoch are automatically used!\n",
      "{'gamma': 1, 'lambda_sparse': 0.1, 'momentum': 0.98}\n",
      "Device used : cuda\n",
      "Stop training because you reached max_epochs = 20 with best_epoch = 18 and best_valid_balanced_accuracy = 0.28807\n",
      "Best weights from best epoch are automatically used!\n",
      "{'gamma': 1.2, 'lambda_sparse': 0, 'momentum': 0.6}\n",
      "Device used : cuda\n",
      "Stop training because you reached max_epochs = 20 with best_epoch = 18 and best_valid_balanced_accuracy = 0.28967\n",
      "Best weights from best epoch are automatically used!\n",
      "{'gamma': 1.2, 'lambda_sparse': 0, 'momentum': 0.9}\n",
      "Device used : cuda\n",
      "Stop training because you reached max_epochs = 20 with best_epoch = 18 and best_valid_balanced_accuracy = 0.2895\n",
      "Best weights from best epoch are automatically used!\n",
      "{'gamma': 1.2, 'lambda_sparse': 0, 'momentum': 0.98}\n",
      "Device used : cuda\n",
      "Stop training because you reached max_epochs = 20 with best_epoch = 18 and best_valid_balanced_accuracy = 0.28906\n",
      "Best weights from best epoch are automatically used!\n",
      "{'gamma': 1.2, 'lambda_sparse': 1e-06, 'momentum': 0.6}\n",
      "Device used : cuda\n",
      "Stop training because you reached max_epochs = 20 with best_epoch = 18 and best_valid_balanced_accuracy = 0.30523\n",
      "Best weights from best epoch are automatically used!\n",
      "{'gamma': 1.2, 'lambda_sparse': 1e-06, 'momentum': 0.9}\n",
      "Device used : cuda\n",
      "Stop training because you reached max_epochs = 20 with best_epoch = 18 and best_valid_balanced_accuracy = 0.30351\n",
      "Best weights from best epoch are automatically used!\n",
      "{'gamma': 1.2, 'lambda_sparse': 1e-06, 'momentum': 0.98}\n",
      "Device used : cuda\n",
      "Stop training because you reached max_epochs = 20 with best_epoch = 18 and best_valid_balanced_accuracy = 0.30266\n",
      "Best weights from best epoch are automatically used!\n",
      "{'gamma': 1.2, 'lambda_sparse': 0.01, 'momentum': 0.6}\n",
      "Device used : cuda\n",
      "Stop training because you reached max_epochs = 20 with best_epoch = 18 and best_valid_balanced_accuracy = 0.28794\n",
      "Best weights from best epoch are automatically used!\n",
      "{'gamma': 1.2, 'lambda_sparse': 0.01, 'momentum': 0.9}\n",
      "Device used : cuda\n",
      "Stop training because you reached max_epochs = 20 with best_epoch = 18 and best_valid_balanced_accuracy = 0.28862\n",
      "Best weights from best epoch are automatically used!\n",
      "{'gamma': 1.2, 'lambda_sparse': 0.01, 'momentum': 0.98}\n",
      "Device used : cuda\n",
      "Stop training because you reached max_epochs = 20 with best_epoch = 18 and best_valid_balanced_accuracy = 0.28924\n",
      "Best weights from best epoch are automatically used!\n",
      "{'gamma': 1.2, 'lambda_sparse': 0.1, 'momentum': 0.6}\n",
      "Device used : cuda\n",
      "Stop training because you reached max_epochs = 20 with best_epoch = 16 and best_valid_balanced_accuracy = 0.28647\n",
      "Best weights from best epoch are automatically used!\n",
      "{'gamma': 1.2, 'lambda_sparse': 0.1, 'momentum': 0.9}\n",
      "Device used : cuda\n",
      "Stop training because you reached max_epochs = 20 with best_epoch = 16 and best_valid_balanced_accuracy = 0.28575\n",
      "Best weights from best epoch are automatically used!\n",
      "{'gamma': 1.2, 'lambda_sparse': 0.1, 'momentum': 0.98}\n",
      "Device used : cuda\n",
      "Stop training because you reached max_epochs = 20 with best_epoch = 16 and best_valid_balanced_accuracy = 0.28532\n",
      "Best weights from best epoch are automatically used!\n",
      "{'gamma': 1.5, 'lambda_sparse': 0, 'momentum': 0.6}\n",
      "Device used : cuda\n",
      "Stop training because you reached max_epochs = 20 with best_epoch = 18 and best_valid_balanced_accuracy = 0.29367\n",
      "Best weights from best epoch are automatically used!\n",
      "{'gamma': 1.5, 'lambda_sparse': 0, 'momentum': 0.9}\n",
      "Device used : cuda\n",
      "Stop training because you reached max_epochs = 20 with best_epoch = 18 and best_valid_balanced_accuracy = 0.29293\n",
      "Best weights from best epoch are automatically used!\n",
      "{'gamma': 1.5, 'lambda_sparse': 0, 'momentum': 0.98}\n",
      "Device used : cuda\n",
      "Stop training because you reached max_epochs = 20 with best_epoch = 18 and best_valid_balanced_accuracy = 0.29283\n",
      "Best weights from best epoch are automatically used!\n",
      "{'gamma': 1.5, 'lambda_sparse': 1e-06, 'momentum': 0.6}\n",
      "Device used : cuda\n",
      "Stop training because you reached max_epochs = 20 with best_epoch = 19 and best_valid_balanced_accuracy = 0.30935\n",
      "Best weights from best epoch are automatically used!\n",
      "{'gamma': 1.5, 'lambda_sparse': 1e-06, 'momentum': 0.9}\n",
      "Device used : cuda\n",
      "Stop training because you reached max_epochs = 20 with best_epoch = 19 and best_valid_balanced_accuracy = 0.30852\n",
      "Best weights from best epoch are automatically used!\n",
      "{'gamma': 1.5, 'lambda_sparse': 1e-06, 'momentum': 0.98}\n",
      "Device used : cuda\n",
      "Stop training because you reached max_epochs = 20 with best_epoch = 19 and best_valid_balanced_accuracy = 0.30832\n",
      "Best weights from best epoch are automatically used!\n",
      "{'gamma': 1.5, 'lambda_sparse': 0.01, 'momentum': 0.6}\n",
      "Device used : cuda\n",
      "Stop training because you reached max_epochs = 20 with best_epoch = 19 and best_valid_balanced_accuracy = 0.27184\n",
      "Best weights from best epoch are automatically used!\n",
      "{'gamma': 1.5, 'lambda_sparse': 0.01, 'momentum': 0.9}\n",
      "Device used : cuda\n",
      "Stop training because you reached max_epochs = 20 with best_epoch = 19 and best_valid_balanced_accuracy = 0.2711\n",
      "Best weights from best epoch are automatically used!\n",
      "{'gamma': 1.5, 'lambda_sparse': 0.01, 'momentum': 0.98}\n",
      "Device used : cuda\n",
      "Stop training because you reached max_epochs = 20 with best_epoch = 19 and best_valid_balanced_accuracy = 0.271\n",
      "Best weights from best epoch are automatically used!\n",
      "{'gamma': 1.5, 'lambda_sparse': 0.1, 'momentum': 0.6}\n",
      "Device used : cuda\n",
      "Stop training because you reached max_epochs = 20 with best_epoch = 19 and best_valid_balanced_accuracy = 0.2715\n",
      "Best weights from best epoch are automatically used!\n",
      "{'gamma': 1.5, 'lambda_sparse': 0.1, 'momentum': 0.9}\n",
      "Device used : cuda\n",
      "Stop training because you reached max_epochs = 20 with best_epoch = 19 and best_valid_balanced_accuracy = 0.26973\n",
      "Best weights from best epoch are automatically used!\n",
      "{'gamma': 1.5, 'lambda_sparse': 0.1, 'momentum': 0.98}\n",
      "Device used : cuda\n",
      "Stop training because you reached max_epochs = 20 with best_epoch = 19 and best_valid_balanced_accuracy = 0.26953\n",
      "Best weights from best epoch are automatically used!\n",
      "{'gamma': 2, 'lambda_sparse': 0, 'momentum': 0.6}\n",
      "Device used : cuda\n",
      "Stop training because you reached max_epochs = 20 with best_epoch = 19 and best_valid_balanced_accuracy = 0.28118\n",
      "Best weights from best epoch are automatically used!\n",
      "{'gamma': 2, 'lambda_sparse': 0, 'momentum': 0.9}\n",
      "Device used : cuda\n",
      "Stop training because you reached max_epochs = 20 with best_epoch = 19 and best_valid_balanced_accuracy = 0.28174\n",
      "Best weights from best epoch are automatically used!\n",
      "{'gamma': 2, 'lambda_sparse': 0, 'momentum': 0.98}\n",
      "Device used : cuda\n",
      "Stop training because you reached max_epochs = 20 with best_epoch = 19 and best_valid_balanced_accuracy = 0.28175\n",
      "Best weights from best epoch are automatically used!\n",
      "{'gamma': 2, 'lambda_sparse': 1e-06, 'momentum': 0.6}\n",
      "Device used : cuda\n",
      "Stop training because you reached max_epochs = 20 with best_epoch = 18 and best_valid_balanced_accuracy = 0.26975\n",
      "Best weights from best epoch are automatically used!\n",
      "{'gamma': 2, 'lambda_sparse': 1e-06, 'momentum': 0.9}\n",
      "Device used : cuda\n",
      "Stop training because you reached max_epochs = 20 with best_epoch = 18 and best_valid_balanced_accuracy = 0.2709\n",
      "Best weights from best epoch are automatically used!\n",
      "{'gamma': 2, 'lambda_sparse': 1e-06, 'momentum': 0.98}\n",
      "Device used : cuda\n",
      "Stop training because you reached max_epochs = 20 with best_epoch = 18 and best_valid_balanced_accuracy = 0.2711\n",
      "Best weights from best epoch are automatically used!\n",
      "{'gamma': 2, 'lambda_sparse': 0.01, 'momentum': 0.6}\n",
      "Device used : cuda\n",
      "Stop training because you reached max_epochs = 20 with best_epoch = 19 and best_valid_balanced_accuracy = 0.29258\n",
      "Best weights from best epoch are automatically used!\n",
      "{'gamma': 2, 'lambda_sparse': 0.01, 'momentum': 0.9}\n",
      "Device used : cuda\n",
      "Stop training because you reached max_epochs = 20 with best_epoch = 19 and best_valid_balanced_accuracy = 0.2896\n",
      "Best weights from best epoch are automatically used!\n",
      "{'gamma': 2, 'lambda_sparse': 0.01, 'momentum': 0.98}\n",
      "Device used : cuda\n",
      "Stop training because you reached max_epochs = 20 with best_epoch = 19 and best_valid_balanced_accuracy = 0.28891\n",
      "Best weights from best epoch are automatically used!\n",
      "{'gamma': 2, 'lambda_sparse': 0.1, 'momentum': 0.6}\n",
      "Device used : cuda\n",
      "Stop training because you reached max_epochs = 20 with best_epoch = 19 and best_valid_balanced_accuracy = 0.25931\n",
      "Best weights from best epoch are automatically used!\n",
      "{'gamma': 2, 'lambda_sparse': 0.1, 'momentum': 0.9}\n",
      "Device used : cuda\n",
      "Stop training because you reached max_epochs = 20 with best_epoch = 19 and best_valid_balanced_accuracy = 0.25992\n",
      "Best weights from best epoch are automatically used!\n",
      "{'gamma': 2, 'lambda_sparse': 0.1, 'momentum': 0.98}\n",
      "Device used : cuda\n",
      "Stop training because you reached max_epochs = 20 with best_epoch = 19 and best_valid_balanced_accuracy = 0.25973\n",
      "Best weights from best epoch are automatically used!\n",
      "\n"
     ]
    }
   ],
   "source": [
    "from sklearn.model_selection import ParameterGrid\n",
    "\n",
    "test_grid =list(ParameterGrid(grid))\n",
    "\n",
    "grid_result = pd.DataFrame()\n",
    "\n",
    "mean_loss = []\n",
    "\n",
    "mean_train_acc = []\n",
    "\n",
    "mean_valid_acc = []\n",
    "\n",
    "max_loss = []\n",
    "\n",
    "max_train_acc = []\n",
    "\n",
    "max_valid_acc = []\n",
    "\n",
    "for param_grid in tqdm_notebook(test_grid, desc='Parameter Grid Search:'):\n",
    "\n",
    "    print(param_grid)\n",
    "\n",
    "    tabnet_rand = TabNetClassifier(**param_grid) # generating model\n",
    "\n",
    "    tabnet_rand.fit(X_train=x_train, y_train=y_train,eval_set=[(x_train, y_train),(x_val, y_val)], eval_name=['train', 'valid'], eval_metric=['balanced_accuracy'], max_epochs=20, num_workers=25, drop_last=False, batch_size=32768, virtual_batch_size=16384, pin_memory=False) # fitting\n",
    "\n",
    "    if len(grid_result) == 0:\n",
    "        grid_result = pd.DataFrame.from_records([param_grid]) # storing first configuration\n",
    "\n",
    "    else:\n",
    "        grid_result = grid_result.append(param_grid, ignore_index=True) # storing configuration used on this iteration\n",
    "\n",
    "    mean_loss.append(np.mean(tabnet_rand.history['loss']))\n",
    "\n",
    "    mean_train_acc.append(np.mean(tabnet_rand.history['train_balanced_accuracy']))\n",
    "\n",
    "    mean_valid_acc.append(np.mean(tabnet_rand.history['valid_balanced_accuracy']))\n",
    "\n",
    "    max_loss.append(np.max(tabnet_rand.history['loss']))\n",
    "\n",
    "    max_train_acc.append(np.max(tabnet_rand.history['train_balanced_accuracy']))\n",
    "\n",
    "    max_valid_acc.append(np.max(tabnet_rand.history['valid_balanced_accuracy']))\n",
    "\n",
    "    del tabnet_rand\n",
    "\n",
    "grid_result['Mean Loss'] = mean_loss\n",
    "\n",
    "grid_result['Mean Train Acc'] = mean_train_acc\n",
    "\n",
    "grid_result['Mean Valid Acc'] = mean_train_acc\n",
    "\n",
    "grid_result['Max Loss'] = max_loss\n",
    "\n",
    "grid_result['Max Train Acc'] = max_train_acc\n",
    "\n",
    "grid_result['Max Valid Acc'] = max_valid_acc"
   ]
  },
  {
   "cell_type": "code",
   "execution_count": 19,
   "metadata": {},
   "outputs": [
    {
     "output_type": "execute_result",
     "data": {
      "text/plain": [
       "    gamma  lambda_sparse  momentum  Mean Loss  Mean Train Acc  Mean Valid Acc  \\\n",
       "15    1.2       0.000001      0.60   1.578161        0.244331        0.244331   \n",
       "16    1.2       0.000001      0.90   1.578161        0.243982        0.243982   \n",
       "17    1.2       0.000001      0.98   1.578161        0.243903        0.243903   \n",
       "12    1.2       0.000000      0.60   1.584692        0.239481        0.239481   \n",
       "13    1.2       0.000000      0.90   1.584692        0.239256        0.239256   \n",
       "14    1.2       0.000000      0.98   1.584692        0.239189        0.239189   \n",
       "3     1.0       0.000001      0.60   1.604694        0.232773        0.232773   \n",
       "4     1.0       0.000001      0.90   1.604694        0.232577        0.232577   \n",
       "5     1.0       0.000001      0.98   1.604694        0.232554        0.232554   \n",
       "21    1.2       0.100000      0.60   1.671097        0.232407        0.232407   \n",
       "\n",
       "    Max Loss  Max Train Acc  Max Valid Acc  \n",
       "15  2.837538       0.303355       0.305228  \n",
       "16  2.837538       0.301986       0.303507  \n",
       "17  2.837538       0.301656       0.302661  \n",
       "12  2.833939       0.293467       0.289666  \n",
       "13  2.833939       0.292083       0.289504  \n",
       "14  2.833939       0.291401       0.289057  \n",
       "3   2.821493       0.299990       0.302340  \n",
       "4   2.821493       0.302146       0.304383  \n",
       "5   2.821493       0.302587       0.303855  \n",
       "21  2.905556       0.284185       0.286468  "
      ],
      "text/html": "<div>\n<style scoped>\n    .dataframe tbody tr th:only-of-type {\n        vertical-align: middle;\n    }\n\n    .dataframe tbody tr th {\n        vertical-align: top;\n    }\n\n    .dataframe thead th {\n        text-align: right;\n    }\n</style>\n<table border=\"1\" class=\"dataframe\">\n  <thead>\n    <tr style=\"text-align: right;\">\n      <th></th>\n      <th>gamma</th>\n      <th>lambda_sparse</th>\n      <th>momentum</th>\n      <th>Mean Loss</th>\n      <th>Mean Train Acc</th>\n      <th>Mean Valid Acc</th>\n      <th>Max Loss</th>\n      <th>Max Train Acc</th>\n      <th>Max Valid Acc</th>\n    </tr>\n  </thead>\n  <tbody>\n    <tr>\n      <th>15</th>\n      <td>1.2</td>\n      <td>0.000001</td>\n      <td>0.60</td>\n      <td>1.578161</td>\n      <td>0.244331</td>\n      <td>0.244331</td>\n      <td>2.837538</td>\n      <td>0.303355</td>\n      <td>0.305228</td>\n    </tr>\n    <tr>\n      <th>16</th>\n      <td>1.2</td>\n      <td>0.000001</td>\n      <td>0.90</td>\n      <td>1.578161</td>\n      <td>0.243982</td>\n      <td>0.243982</td>\n      <td>2.837538</td>\n      <td>0.301986</td>\n      <td>0.303507</td>\n    </tr>\n    <tr>\n      <th>17</th>\n      <td>1.2</td>\n      <td>0.000001</td>\n      <td>0.98</td>\n      <td>1.578161</td>\n      <td>0.243903</td>\n      <td>0.243903</td>\n      <td>2.837538</td>\n      <td>0.301656</td>\n      <td>0.302661</td>\n    </tr>\n    <tr>\n      <th>12</th>\n      <td>1.2</td>\n      <td>0.000000</td>\n      <td>0.60</td>\n      <td>1.584692</td>\n      <td>0.239481</td>\n      <td>0.239481</td>\n      <td>2.833939</td>\n      <td>0.293467</td>\n      <td>0.289666</td>\n    </tr>\n    <tr>\n      <th>13</th>\n      <td>1.2</td>\n      <td>0.000000</td>\n      <td>0.90</td>\n      <td>1.584692</td>\n      <td>0.239256</td>\n      <td>0.239256</td>\n      <td>2.833939</td>\n      <td>0.292083</td>\n      <td>0.289504</td>\n    </tr>\n    <tr>\n      <th>14</th>\n      <td>1.2</td>\n      <td>0.000000</td>\n      <td>0.98</td>\n      <td>1.584692</td>\n      <td>0.239189</td>\n      <td>0.239189</td>\n      <td>2.833939</td>\n      <td>0.291401</td>\n      <td>0.289057</td>\n    </tr>\n    <tr>\n      <th>3</th>\n      <td>1.0</td>\n      <td>0.000001</td>\n      <td>0.60</td>\n      <td>1.604694</td>\n      <td>0.232773</td>\n      <td>0.232773</td>\n      <td>2.821493</td>\n      <td>0.299990</td>\n      <td>0.302340</td>\n    </tr>\n    <tr>\n      <th>4</th>\n      <td>1.0</td>\n      <td>0.000001</td>\n      <td>0.90</td>\n      <td>1.604694</td>\n      <td>0.232577</td>\n      <td>0.232577</td>\n      <td>2.821493</td>\n      <td>0.302146</td>\n      <td>0.304383</td>\n    </tr>\n    <tr>\n      <th>5</th>\n      <td>1.0</td>\n      <td>0.000001</td>\n      <td>0.98</td>\n      <td>1.604694</td>\n      <td>0.232554</td>\n      <td>0.232554</td>\n      <td>2.821493</td>\n      <td>0.302587</td>\n      <td>0.303855</td>\n    </tr>\n    <tr>\n      <th>21</th>\n      <td>1.2</td>\n      <td>0.100000</td>\n      <td>0.60</td>\n      <td>1.671097</td>\n      <td>0.232407</td>\n      <td>0.232407</td>\n      <td>2.905556</td>\n      <td>0.284185</td>\n      <td>0.286468</td>\n    </tr>\n  </tbody>\n</table>\n</div>"
     },
     "metadata": {},
     "execution_count": 19
    }
   ],
   "source": [
    "grid_result.sort_values(by='Mean Valid Acc', ascending=False).head(n=10)"
   ]
  },
  {
   "cell_type": "code",
   "execution_count": 20,
   "metadata": {},
   "outputs": [],
   "source": [
    "grid_result.to_csv('../models/results/grid_performance_search.csv')"
   ]
  },
  {
   "cell_type": "code",
   "execution_count": null,
   "metadata": {},
   "outputs": [],
   "source": []
  }
 ]
}